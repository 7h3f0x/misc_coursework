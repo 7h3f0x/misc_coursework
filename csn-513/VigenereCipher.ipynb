{
 "cells": [
  {
   "cell_type": "markdown",
   "id": "6b0c194a-9de0-42c5-868d-4ce34ffa8251",
   "metadata": {},
   "source": [
    "# Vigen&#233;re Cipher "
   ]
  },
  {
   "cell_type": "code",
   "execution_count": 1,
   "id": "7872b809-afe4-42a4-b49e-a27302efcef2",
   "metadata": {},
   "outputs": [],
   "source": [
    "import string\n",
    "import math"
   ]
  },
  {
   "cell_type": "code",
   "execution_count": 2,
   "id": "0dc3d322-5c1e-44be-9a53-1569a811df08",
   "metadata": {},
   "outputs": [],
   "source": [
    "class VigenereCipher:\n",
    "    alphabet = set(string.ascii_lowercase)\n",
    "    \n",
    "    def __init__(self, key: str):\n",
    "        assert all(ch in self.alphabet for ch in key)\n",
    "        self.key = key\n",
    "    \n",
    "    @staticmethod\n",
    "    def shift(ch1: str, ch2: str, dec: bool = False) -> str:\n",
    "        assert len(ch1) == 1\n",
    "        assert len(ch2) == 1\n",
    "        assert ch1 in VigenereCipher.alphabet\n",
    "        assert ch2 in VigenereCipher.alphabet\n",
    "        \n",
    "        off1 = ord(ch1) - ord('a')\n",
    "        off2 = ord(ch2) - ord('a')\n",
    "        if dec:\n",
    "            off1  = (off1 - off2) % len(VigenereCipher.alphabet)\n",
    "        else:\n",
    "            off1  = (off1 + off2) % len(VigenereCipher.alphabet)\n",
    "            \n",
    "        return chr(ord('a') + off1)\n",
    "    \n",
    "    def encrypt(self, plaintext: str) -> str:\n",
    "        assert all(ch in self.alphabet for ch in plaintext)\n",
    "        out = []\n",
    "        for i, ch in enumerate(plaintext):\n",
    "            out.append(self.shift(ch, self.key[i % len(self.key)]))\n",
    "        \n",
    "        return \"\".join(out)\n",
    "    \n",
    "    def decrypt(self, ciphertext: str) -> str:\n",
    "        assert all(ch in self.alphabet for ch in ciphertext)\n",
    "        out = []\n",
    "        for i, ch in enumerate(ciphertext):\n",
    "            out.append(self.shift(ch, self.key[i % len(self.key)], True))\n",
    "        \n",
    "        return \"\".join(out)"
   ]
  },
  {
   "cell_type": "code",
   "execution_count": 3,
   "id": "7b1cdf9d-0158-4a5d-b5dc-4722258aa00d",
   "metadata": {},
   "outputs": [],
   "source": [
    "def get_freq(text: list) -> dict:\n",
    "    freq = {}\n",
    "    for ch in text:\n",
    "        freq[ch] = freq.get(ch, 0) + 1\n",
    "    \n",
    "    return freq"
   ]
  },
  {
   "cell_type": "code",
   "execution_count": 4,
   "id": "eb093603-81f2-4062-95f2-fa7b36d97229",
   "metadata": {},
   "outputs": [],
   "source": [
    "def get_ioc(alphabet_freq: dict) -> float:\n",
    "    ioc = 0.0\n",
    "    for k in alphabet_freq:\n",
    "        ioc += pow(alphabet_freq[k], 2)\n",
    "    \n",
    "    return ioc"
   ]
  },
  {
   "cell_type": "code",
   "execution_count": 5,
   "id": "1b875572-0163-4454-b7d7-4f1a843f14aa",
   "metadata": {},
   "outputs": [],
   "source": [
    "# http://pi.math.cornell.edu/~mec/2003-2004/cryptography/subs/frequencies.html\n",
    "# english_freq = {\n",
    "#     \"e\": 12.02,\n",
    "#     \"t\": 9.10,\n",
    "#     \"a\": 8.12,\n",
    "#     \"o\": 7.68,\n",
    "#     \"i\": 7.31,\n",
    "#     \"n\": 6.95,\n",
    "#     \"s\": 6.28,\n",
    "#     \"r\": 6.02,\n",
    "#     \"h\": 5.92,\n",
    "#     \"d\": 4.32,\n",
    "#     \"l\": 3.98,\n",
    "#     \"u\": 2.88,\n",
    "#     \"c\": 2.71,\n",
    "#     \"m\": 2.61,\n",
    "#     \"f\": 2.30,\n",
    "#     \"y\": 2.11,\n",
    "#     \"w\": 2.09,\n",
    "#     \"g\": 2.03,\n",
    "#     \"p\": 1.82,\n",
    "#     \"b\": 1.49,\n",
    "#     \"v\": 1.11,\n",
    "#     \"k\": 0.69,\n",
    "#     \"x\": 0.17,\n",
    "#     \"q\": 0.11,\n",
    "#     \"j\": 0.10,\n",
    "#     \"z\": 0.07,\n",
    "# }\n",
    "\n",
    "# from sir\n",
    "english_freq = {\n",
    "    \"a\":  0.082,\n",
    "    \"b\":  0.015,\n",
    "    \"c\":  0.028,\n",
    "    \"d\":  0.043,\n",
    "    \"e\":  0.127,\n",
    "    \"f\":  0.022,\n",
    "    \"g\":  0.020,\n",
    "    \"h\":  0.061,\n",
    "    \"i\":  0.070,\n",
    "    \"j\":  0.002,\n",
    "    \"k\":  0.008,\n",
    "    \"l\":  0.040,\n",
    "    \"m\":  0.024,\n",
    "    \"n\":  0.067,\n",
    "    \"o\":  0.075,\n",
    "    \"p\":  0.019,\n",
    "    \"q\":  0.001,\n",
    "    \"r\":  0.060,\n",
    "    \"s\":  0.063,\n",
    "    \"t\":  0.091,\n",
    "    \"u\":  0.028,\n",
    "    \"v\":  0.010,\n",
    "    \"w\":  0.023,\n",
    "    \"x\":  0.001,\n",
    "    \"y\":  0.020,\n",
    "    \"z\":  0.001,\n",
    "}\n",
    "\n",
    "english_IOC = get_ioc(english_freq)\n",
    "\n",
    "# english_IOC = 0.065\n",
    "def closest_ioc(s: list) -> str:\n",
    "    \n",
    "    indices = []\n",
    "    for k in VigenereCipher.alphabet:\n",
    "        f = get_freq(s)\n",
    "        IC = 0.0\n",
    "        for ch in VigenereCipher.alphabet:\n",
    "            shifted = VigenereCipher.shift(ch, k, True)\n",
    "            IC += (f.get(ch, 0) / len(ciphertext)) * english_freq[shifted]\n",
    "        indices.append((k, IC))\n",
    "    \n",
    "    for i, index in enumerate(indices):\n",
    "        indices[i] = (index[0], abs(index[1] - english_IOC))\n",
    "    \n",
    "    return min(indices, key=lambda x: x[1])[0]"
   ]
  },
  {
   "cell_type": "markdown",
   "id": "991a2963-ee34-4941-86a8-f161bca9985f",
   "metadata": {},
   "source": [
    "## Index of Coincidence Analysis"
   ]
  },
  {
   "cell_type": "code",
   "execution_count": 6,
   "id": "c5335deb-7d51-4a67-8f9f-721dc3654af0",
   "metadata": {},
   "outputs": [],
   "source": [
    "def get_key(ciphertext: str, key_length: int) -> str:\n",
    "    l = (len(ciphertext) // key_length) * key_length\n",
    "    key = []\n",
    "    for i in range(0, key_length):\n",
    "        s = []\n",
    "        for idx in range(i, l, key_length):\n",
    "            s.append(ciphertext[idx])\n",
    "        key.append(closest_ioc(s))\n",
    "        \n",
    "    return \"\".join(key)"
   ]
  },
  {
   "cell_type": "markdown",
   "id": "4e55e48e-8971-4859-9bb3-aba80f4db86c",
   "metadata": {},
   "source": [
    "### Assignment 1 Q3"
   ]
  },
  {
   "cell_type": "code",
   "execution_count": 7,
   "id": "a881509d-193f-4737-8f57-e9d6607aac65",
   "metadata": {},
   "outputs": [
    {
     "name": "stdout",
     "output_type": "stream",
     "text": [
      "ciphertext = 'bbushyrvtetmmzvuebufvtwcxkhwxmhyvbfrvfewbpxouestfpvxlcnigvagtmwprpcsogzggpbzmrhhbhfvnaghhqitqfrckycoxotiggbxwfaphkbjrfmwifposbgujgtboshvfqtisjxycsmhghhlbhtltbembdvbxtbeeezfpgvcoexgusbbtmuevtbvoogxtvxwcrghbhtixatjffzcgxqbpviuxojvrxpomomcbrckuskyfpqlweikryymhgjhxkbpyrfwptzleecokapywyxgcphcejsvygmasweiwezsebahngusnqistkeofmfbgdgtxfvgqaxrpympfrsrgvfrtfimzjosrcobkcgtkwnsfuvoelsstxbuwwjgsklotsyhsewevgytzmmguulsnvbwlzjkahmcqyvzebbhsykiehwnfetbesyusisetftlgsmosswtzesyewfwtajxvzaybguxlxffefvgvxlhbvlvbzskuclxguekgciseyclm'\n",
      "key_length = 13\n",
      "key = 'tobeornottobe'\n",
      "decrypted_plaintext = 'intothehalflightandshadowgoiwithinmyheadnotadreambutsomesensationworksitswillnotadreamnotpeacenotloveasensationborninmyverybeingicannotescapeitforitputsitshandinmineandallelsepalestoinsignificancefutilesoitseemsfromonecalcuttasidewalktoanotherfromsidewalktosidewalkasiwalkalongmylifesbloodfeelsthevapidvenomoustouchoftramtracksstretchedoutbeneathmyfeetlikeapairofprimordialserpentsistersasoftrainisfallingthewindslightlychillingofwhatfarlandofgreengrassriversfirefliesamithinkingwherearethestarshavethosestarsbeenlost'\n"
     ]
    }
   ],
   "source": [
    "# ciphertext = input(\"Enter ciphertext to decrypt: \")\n",
    "ciphertext = \"bbushyrvtetmmzvuebufvtwcxkhwxmhyvbfrvfewbpxouestfpvxlcnigvagtmwprpcsogzggpbzmrhhbhfvnaghhqitqfrckycoxotiggbxwfaphkbjrfmwifposbgujgtboshvfqtisjxycsmhghhlbhtltbembdvbxtbeeezfpgvcoexgusbbtmuevtbvoogxtvxwcrghbhtixatjffzcgxqbpviuxojvrxpomomcbrckuskyfpqlweikryymhgjhxkbpyrfwptzleecokapywyxgcphcejsvygmasweiwezsebahngusnqistkeofmfbgdgtxfvgqaxrpympfrsrgvfrtfimzjosrcobkcgtkwnsfuvoelsstxbuwwjgsklotsyhsewevgytzmmguulsnvbwlzjkahmcqyvzebbhsykiehwnfetbesyusisetftlgsmosswtzesyewfwtajxvzaybguxlxffefvgvxlhbvlvbzskuclxguekgciseyclm\"\n",
    "print(f\"{ciphertext = }\")\n",
    "\n",
    "key_length = 13\n",
    "print(f\"{key_length = }\")\n",
    "\n",
    "key = get_key(ciphertext, key_length)\n",
    "print(f\"{key = }\")\n",
    "\n",
    "cipher = VigenereCipher(key)\n",
    "decrypted_plaintext = cipher.decrypt(ciphertext)\n",
    "print(f\"{decrypted_plaintext = }\")"
   ]
  },
  {
   "cell_type": "markdown",
   "id": "a28e8e57-2e2d-4e02-b5e9-00b8fa1db621",
   "metadata": {},
   "source": [
    "### Assignment 2 Q1"
   ]
  },
  {
   "cell_type": "code",
   "execution_count": 8,
   "id": "3c188255-e037-4dec-b6bf-102683caef2c",
   "metadata": {},
   "outputs": [
    {
     "name": "stdout",
     "output_type": "stream",
     "text": [
      "ciphertext = 'jcuaglxpwhvjyovitkktebrkgflkntvycdkmifdxukkdlcnmtyhlbtmoirvqkuqwsibwlsiqchljzogpxwrrkbjzryxhvqyrjowkhrfprokcfwqbukwlzscmrahvguyalsuyvohvpxrwxwfluhdvqgkkhsjgphkmfzalwhisehxzrallhwebggfiyrxketvguhhtakmdsfbguqruzugscijcfwquntripctiewsprxl'\n",
      "key_length = 12\n",
      "key = 'codingtheory'\n",
      "decrypted_plaintext = 'horstfeistelwasagermanamericancryptographerwhoworkedonthedesignofciphersatibminitiatingresearchthatculminatedinthedevelopmentofthedataencryptionstandarddesinthesthestructureusedindescalledafeistelnetworkiscommonlyusedinmanyblockciphers'\n"
     ]
    }
   ],
   "source": [
    "# ciphertext = input(\"Enter ciphertext to decrypt: \")\n",
    "ciphertext = \"jcuaglxpwhvjyovitkktebrkgflkntvycdkmifdxukkdlcnmtyhlbtmoirvqkuqwsibwlsiqchljzogpxwrrkbjzryxhvqyrjowkhrfprokcfwqbukwlzscmrahvguyalsuyvohvpxrwxwfluhdvqgkkhsjgphkmfzalwhisehxzrallhwebggfiyrxketvguhhtakmdsfbguqruzugscijcfwquntripctiewsprxl\"\n",
    "print(f\"{ciphertext = }\")\n",
    "\n",
    "key_length = 12\n",
    "print(f\"{key_length = }\")\n",
    "\n",
    "key = get_key(ciphertext, key_length)\n",
    "# print(f\"{key = }\")\n",
    "# it is actually this, we can tell just by looking at it\n",
    "key = \"codingtheory\"\n",
    "print(f\"{key = }\")\n",
    "\n",
    "cipher = VigenereCipher(key)\n",
    "decrypted_plaintext = cipher.decrypt(ciphertext)\n",
    "print(f\"{decrypted_plaintext = }\")"
   ]
  },
  {
   "cell_type": "markdown",
   "id": "2f982e47-5ac0-4d31-a2db-6ef2821a7ecf",
   "metadata": {},
   "source": [
    "### Assignment 2 Q2"
   ]
  },
  {
   "cell_type": "code",
   "execution_count": 9,
   "id": "50babce5-7d12-465f-9d3b-d88757eef4c6",
   "metadata": {},
   "outputs": [
    {
     "name": "stdout",
     "output_type": "stream",
     "text": [
      "ciphertext = 'zhrjlxxijlwewrkszeiesgadwjbcrfukyglgzrrhzxrnzgpoicwwoelzxdvkaznfxubpywjlakatfiealbakafzrvkwtrtzlaakumemzfsmeuafmhvvwoecghfeelgytywvttrwfvrphlboekltnusjwdvkagtywkmhvklkutlmkelkwwievwlcrddxdrxwbskwdgekogkkzkuhmdgfeylkwwieesgysdgvktahaeik'\n",
      "key_length = 5\n",
      "key = 'stars'\n",
      "decrypted_plaintext = 'horstfeistelwasagermanamericancryptographerwhoworkedonthedesignofciphersatibminitiatingresearchthatculminatedinthedevelopmentofthedataencryptionstandarddesinthesthestructureusedindescalledafeistelnetworkiscommonlyusedinmanyblockciphers'\n"
     ]
    }
   ],
   "source": [
    "# ciphertext = input(\"Enter ciphertext to decrypt: \")\n",
    "ciphertext = \"zhrjlxxijlwewrkszeiesgadwjbcrfukyglgzrrhzxrnzgpoicwwoelzxdvkaznfxubpywjlakatfiealbakafzrvkwtrtzlaakumemzfsmeuafmhvvwoecghfeelgytywvttrwfvrphlboekltnusjwdvkagtywkmhvklkutlmkelkwwievwlcrddxdrxwbskwdgekogkkzkuhmdgfeylkwwieesgysdgvktahaeik\"\n",
    "print(f\"{ciphertext = }\")\n",
    "\n",
    "key_length = 5\n",
    "print(f\"{key_length = }\")\n",
    "\n",
    "key = get_key(ciphertext, key_length)\n",
    "print(f\"{key = }\")\n",
    "\n",
    "cipher = VigenereCipher(key)\n",
    "decrypted_plaintext = cipher.decrypt(ciphertext)\n",
    "print(f\"{decrypted_plaintext = }\")"
   ]
  },
  {
   "cell_type": "markdown",
   "id": "65fd7014-47a9-4644-adb2-158362fffdbe",
   "metadata": {},
   "source": [
    "## Kasiski Test"
   ]
  },
  {
   "cell_type": "code",
   "execution_count": 10,
   "id": "bba73573-e153-4d10-8481-335656db5f94",
   "metadata": {},
   "outputs": [],
   "source": [
    "def find_all_indices(text: str, start_pos: int, needle: str) -> list:\n",
    "    out = []\n",
    "    for i in range(start_pos, len(text)):\n",
    "        if text.startswith(needle, i):\n",
    "            out.append(i)\n",
    "    \n",
    "    return out\n",
    "\n",
    "def get_key_length(ciphertext: str) -> int:\n",
    "    substr_length = 3\n",
    "    key_lengths = []\n",
    "    for i in range(0, len(ciphertext) - substr_length):\n",
    "        needle = ciphertext[i: i + substr_length]\n",
    "        indices = find_all_indices(ciphertext, i + 1, needle)\n",
    "        if indices:\n",
    "            # print(f\"substr = {needle}, {indices = }\")\n",
    "            key_length = indices[0] - i\n",
    "            for idx in indices[1:]:\n",
    "                key_length = math.gcd(key_length, idx - i)\n",
    "            \n",
    "            key_lengths.append(key_length)\n",
    "    \n",
    "    if key_lengths:\n",
    "        return min(key_lengths)\n",
    "            \n",
    "    raise Exception(\"could not find key length via kasiski test\")"
   ]
  },
  {
   "cell_type": "code",
   "execution_count": 11,
   "id": "6fbce124-2b49-4557-8926-44916423e0e8",
   "metadata": {},
   "outputs": [
    {
     "name": "stdout",
     "output_type": "stream",
     "text": [
      "ciphertext = 'hswcbinkocjstbwxjitzwxoitaoxgepraydifhcdpiwbwdmhuhodmwfifsvkycfvlacfwspiyogzteesrevhgfvycwgofbmwvpidoekbsncwewhshipgvsxxjstytpqkwxohcmvoeeuufkvxgrocmgwfwdggnsobiresoxlfguoxestytyzxjsicimttcbkieoalzmfusbmwgofmpggbhozspwrovxktwmixkcbpzmgbryzjqsrodmesgrmacggejwgeiovxnmswxpqmsnixowhctmpqcvvpcpcbixqfmdpiphvoumvfsmwvrcfkbmqbtsvenzmrmqqjsnbskpagpitsvozieswfmhcbogivftcbpmuqfixxqufkxlkqkyzojwgbmwgofmpevwpwtifhcdpifsjotsrasxbshhvotyewtozeprrkbegbqbgtvwcxaxcbrkzhewdrmvutssaxgzkkaspscpblgsobtmgghxwricjozrosbdziusobklgfgdwwviriblgrscqkpobnblgcfiwjdzcmsgkdvozw'\n"
     ]
    }
   ],
   "source": [
    "# ciphertext = input(\"Enter ciphertext to decrypt: \")\n",
    "ciphertext = \"hswcbinkocjstbwxjitzwxoitaoxgepraydifhcdpiwbwdmhuhodmwfifsvkycfvlacfwspiyogzteesrevhgfvycwgofbmwvpidoekbsncwewhshipgvsxxjstytpqkwxohcmvoeeuufkvxgrocmgwfwdggnsobiresoxlfguoxestytyzxjsicimttcbkieoalzmfusbmwgofmpggbhozspwrovxktwmixkcbpzmgbryzjqsrodmesgrmacggejwgeiovxnmswxpqmsnixowhctmpqcvvpcpcbixqfmdpiphvoumvfsmwvrcfkbmqbtsvenzmrmqqjsnbskpagpitsvozieswfmhcbogivftcbpmuqfixxqufkxlkqkyzojwgbmwgofmpevwpwtifhcdpifsjotsrasxbshhvotyewtozeprrkbegbqbgtvwcxaxcbrkzhewdrmvutssaxgzkkaspscpblgsobtmgghxwricjozrosbdziusobklgfgdwwviriblgrscqkpobnblgcfiwjdzcmsgkdvozw\"\n",
    "print(f\"{ciphertext = }\")"
   ]
  },
  {
   "cell_type": "markdown",
   "id": "996352af-082a-40bf-b782-5bcfe8207dde",
   "metadata": {},
   "source": [
    "### Assignment 2 Q3"
   ]
  },
  {
   "cell_type": "code",
   "execution_count": 12,
   "id": "af18f592-4a53-48ba-a572-19a7dc28113b",
   "metadata": {},
   "outputs": [
    {
     "name": "stdout",
     "output_type": "stream",
     "text": [
      "key_length = 6\n"
     ]
    }
   ],
   "source": [
    "key_length = get_key_length(ciphertext)\n",
    "print(f\"{key_length = }\")"
   ]
  },
  {
   "cell_type": "markdown",
   "id": "e47c09b1-485d-418b-8422-d38f7a9bf5d3",
   "metadata": {},
   "source": [
    "### Assignment 2 Q4"
   ]
  },
  {
   "cell_type": "code",
   "execution_count": 13,
   "id": "b4d81eac-be8a-4785-aef4-e538766a5820",
   "metadata": {},
   "outputs": [
    {
     "name": "stdout",
     "output_type": "stream",
     "text": [
      "key = 'cookie'\n"
     ]
    }
   ],
   "source": [
    "key = get_key(ciphertext, key_length)\n",
    "print(f\"{key = }\")"
   ]
  },
  {
   "cell_type": "markdown",
   "id": "d0f0d0bd-2d4c-47a8-9e13-6f0e0c0685a1",
   "metadata": {},
   "source": [
    "### Assignment 2 Q5"
   ]
  },
  {
   "cell_type": "code",
   "execution_count": 14,
   "id": "7663987f-5780-49d9-8875-dcb3532b7e02",
   "metadata": {},
   "outputs": [
    {
     "name": "stdout",
     "output_type": "stream",
     "text": [
      "decrypted_plaintext = 'feistelwasborninberlingermanyandmovedtotheunitedstatesduringworldwariihewasplacedunderhousearrestbutgaineduscitizenshipthefollowingdayhewasgrantedasecurityclearanceandbeganworkfortheusairforcecambridgeresearchcenteronidentificationfriendorfoedeviceshewassubsequentlyemployedatmitslincolnlaboratorythenthemitrecorporationfinallyhemovedtoibmwherehereceivedanawardforhiscryptographicworkhisresearchatibmledtothedevelopmentoftheluciferanddataencryptionstandardciphersfeistelwasoneoftheearliestnongovernmentresearcherstostudythedesignandtheoryofblockciphers'\n"
     ]
    }
   ],
   "source": [
    "cipher = VigenereCipher(key)\n",
    "decrypted_plaintext = cipher.decrypt(ciphertext)\n",
    "print(f\"{decrypted_plaintext = }\")"
   ]
  },
  {
   "cell_type": "markdown",
   "id": "e785c38f-1bdd-4b00-8f5f-a12fa1d5668a",
   "metadata": {},
   "source": [
    "### Assignment 2 Q6"
   ]
  },
  {
   "cell_type": "code",
   "execution_count": 15,
   "id": "426cc036-ac98-4ba6-8d76-0acbee61bfdc",
   "metadata": {},
   "outputs": [
    {
     "name": "stdout",
     "output_type": "stream",
     "text": [
      "Index of coincidence = 0.22\n"
     ]
    }
   ],
   "source": [
    "prob = {}\n",
    "prob[\"a\"] = 0.2\n",
    "prob[\"b\"] = 0.3\n",
    "prob[\"c\"] = 0.2\n",
    "prob[\"d\"] = 0.1\n",
    "prob[\"e\"] = 0.2\n",
    "ioc = get_ioc(prob)\n",
    "print(f\"Index of coincidence = {ioc:.2f}\")"
   ]
  },
  {
   "cell_type": "markdown",
   "id": "725c0cd9-0600-4513-a179-c9bea4e64ea8",
   "metadata": {},
   "source": [
    "### Stinson Example 1.12"
   ]
  },
  {
   "cell_type": "code",
   "execution_count": 16,
   "id": "0eec277a-05d8-401b-9def-bc357973bb88",
   "metadata": {},
   "outputs": [
    {
     "name": "stdout",
     "output_type": "stream",
     "text": [
      "key_length = 5\n",
      "key = 'janet'\n",
      "decrypted_plaintext = 'thealmondtreewasintentativeblossomthedayswerelongeroftenendingwitfmagnificenteveningsofcorrugatedpinkskiesthehuntingseasonwasoverwithhoundsandgunsputawayforsixmonthsthevineyardswerebusyagainasthewellorganizedfarmerstreatedtheirvinesandthemorelackadaisicalneighborshurriedtodothepruningtheyshouldhavedoneinnovppwkra'\n"
     ]
    }
   ],
   "source": [
    "ciphertext = \"CHREEVOAHMAERATBIAXXWTNXBEEOPHBSBQMQEQERBWRVXUOAKXAOSXXWEAHBWGJMMOMNKGRFVGXWTRZXWIAKLXFPSKAUTEMNDCMGTSXMXBTUIADNGMGPSRELXNJELXVRVPRTULHDNQWTWDTYGBPHXTFALJHASVBFXNGLLCHRZBWELEKMSJIKNBHWRJGNMGJSGLXFEYPHAGNRBIEQJTAMRVLCRREMNDGLXRRIMGNSNRWCHRQHAEYEVTAQEBBIPEEWEVKAKOEWADREMXMTBHHCHRTKDNVRZCHRCLQOHPWQAIIWXNRMGWOITIFKEE\".lower()\n",
    "key_length = get_key_length(ciphertext)\n",
    "print(f\"{key_length = }\")\n",
    "key = get_key(ciphertext, key_length)\n",
    "print(f\"{key = }\")\n",
    "cipher = VigenereCipher(key)\n",
    "decrypted_plaintext = cipher.decrypt(ciphertext)\n",
    "print(f\"{decrypted_plaintext = }\")"
   ]
  },
  {
   "cell_type": "markdown",
   "id": "6320ae6b-f4ce-49cd-8822-b6052507dfa7",
   "metadata": {},
   "source": [
    "### Class Example"
   ]
  },
  {
   "cell_type": "code",
   "execution_count": 18,
   "id": "c98241c4-b04a-4c21-8601-b9773658da06",
   "metadata": {},
   "outputs": [
    {
     "name": "stdout",
     "output_type": "stream",
     "text": [
      "key_length = 6\n",
      "key = 'crypto'\n",
      "decrypted_plaintext = 'ilearnedhowtocalculatetheamountofpaperneededforaroomwheniwasatschoolyoumultiplythesquarefootageofthewallsbythecubiccontentsofthefloorandceilingcombinedanddoubleityouthenallowhalfthetotalforopeningssuchaswindowsanddoorsthenyouallowtheotherhalfformatchingthepatternthenyoudoublethewholethingagaintogiveamarginoferrorandthenyouorderthepaper'\n"
     ]
    }
   ],
   "source": [
    "ciphertext = \"KCCPKBGUFDPHQTYAVINRRTMVGRKDNBVFDETDGILTXRGUDDKOTFMBPVGEGLTGCKQRACQCWDNAWCRXIZAKFTLEWRPTYCQKYVXCHKFTPONCQQRHJVAJUWETMCMSPKQDYHJVDAHCTRLSVSKCGCZQQDZXGSFRLSWCWSJTBHAFSIASPRJAHKJRJUMVGKMITZHFPDISPZLVLGWTFPLKKEBDPGCEBSHCTJRWXBAFSPEZQNRWXCVYCGAONWDDKACKAWBBIKFTIOVKCGGHJVLNHIFFSQESVYCLACNVRWBBIREPBBVFEXOSCDYGZWPFDTKFQIYCWHJVLNHIQIBTKHJVNPIST\".lower()\n",
    "key_length = get_key_length(ciphertext)\n",
    "print(f\"{key_length = }\")\n",
    "key = get_key(ciphertext, key_length)\n",
    "print(f\"{key = }\")\n",
    "cipher = VigenereCipher(key)\n",
    "decrypted_plaintext = cipher.decrypt(ciphertext)\n",
    "print(f\"{decrypted_plaintext = }\")"
   ]
  }
 ],
 "metadata": {
  "kernelspec": {
   "display_name": "Python 3 (ipykernel)",
   "language": "python",
   "name": "python3"
  },
  "language_info": {
   "codemirror_mode": {
    "name": "ipython",
    "version": 3
   },
   "file_extension": ".py",
   "mimetype": "text/x-python",
   "name": "python",
   "nbconvert_exporter": "python",
   "pygments_lexer": "ipython3",
   "version": "3.8.10"
  }
 },
 "nbformat": 4,
 "nbformat_minor": 5
}
