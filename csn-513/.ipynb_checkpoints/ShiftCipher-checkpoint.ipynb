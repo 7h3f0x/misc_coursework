{
 "cells": [
  {
   "cell_type": "markdown",
   "id": "8a9d8753-9848-47b0-8805-985e23801ee7",
   "metadata": {},
   "source": [
    "# Shift Cipher"
   ]
  },
  {
   "cell_type": "code",
   "execution_count": 1,
   "id": "a8f11433-6be8-4055-96f9-b670b508612a",
   "metadata": {},
   "outputs": [],
   "source": [
    "import string"
   ]
  },
  {
   "cell_type": "code",
   "execution_count": 2,
   "id": "8d1101f4-cb8e-4ea2-b9f2-e02949a3fc1a",
   "metadata": {},
   "outputs": [],
   "source": [
    "class ShiftCipher:\n",
    "    plaintext_space = set(string.ascii_lowercase)\n",
    "    \n",
    "    def __init__(self, key: int):\n",
    "        self.key = key % len(self.plaintext_space)\n",
    "        \n",
    "    @staticmethod\n",
    "    def shift(ch: str, key: int) -> str:\n",
    "        assert len(ch) == 1\n",
    "        assert ch in ShiftCipher.plaintext_space\n",
    "        offset = ord(ch) - ord('a')\n",
    "        offset = (offset + key) % len(ShiftCipher.plaintext_space)\n",
    "        return chr(ord('a') + offset)\n",
    "    \n",
    "    def encrypt(self, plaintext: str) -> str:\n",
    "        out = []\n",
    "        for ch in plaintext:\n",
    "            out.append(self.shift(ch, self.key))\n",
    "        \n",
    "        return \"\".join(out)\n",
    "    \n",
    "    def decrypt(self, ciphertext: str) -> str:\n",
    "        out = []\n",
    "        for ch in ciphertext:\n",
    "            out.append(self.shift(ch, len(self.plaintext_space) - self.key))\n",
    "        \n",
    "        return \"\".join(out)"
   ]
  },
  {
   "cell_type": "code",
   "execution_count": 3,
   "id": "039d1e32-437b-4533-861d-303ab4f2b90a",
   "metadata": {},
   "outputs": [],
   "source": [
    "def get_freq(text: str) -> dict:\n",
    "    freq = {}\n",
    "    for ch in text:\n",
    "        freq[ch] = freq.get(ch, 0) + 1\n",
    "    \n",
    "    return freq"
   ]
  },
  {
   "cell_type": "markdown",
   "id": "d76af4e6-afd2-4cdc-b227-362697954316",
   "metadata": {},
   "source": [
    "## Largest probability match"
   ]
  },
  {
   "cell_type": "code",
   "execution_count": 4,
   "id": "40212550-4200-4354-a642-d5d81c54244d",
   "metadata": {},
   "outputs": [],
   "source": [
    "def get_key_1(ciphertext: str) -> int:\n",
    "    assert all(ch in ShiftCipher.plaintext_space for ch in ciphertext)\n",
    "    \n",
    "    freq = get_freq(ciphertext)\n",
    "    \n",
    "    e = max(freq, key = lambda x: freq[x])\n",
    "    return (ord(e) - ord('e')) % len(ShiftCipher.plaintext_space)"
   ]
  },
  {
   "cell_type": "markdown",
   "id": "b8ec1934-b926-494a-836a-97526deda1db",
   "metadata": {},
   "source": [
    "### Assignment 1 Q1"
   ]
  },
  {
   "cell_type": "code",
   "execution_count": 5,
   "id": "99b297f0-a86a-4443-9c5c-1df1a959aa75",
   "metadata": {},
   "outputs": [
    {
     "name": "stdout",
     "output_type": "stream",
     "text": [
      "ciphertext = 'ylkspwzhyluvazvylkhzaolzahpulkzavulzrpzzlkifaollunspzoklhkrpukulzzvmdvvlkhukdvvlyzlltzzohtlavaolpysvclwbylvsvclfvbylflzsvzlsbyldolupilovsklflzispuklkputfzalhk'\n",
      "key = 7\n",
      "decrypted_plaintext = 'redlipsarenotsoredasthestainedstoneskissedbytheenglishdeadkindnessofwooedandwooerseemsshametotheirlovepureoloveyoureyesloselurewhenibeholdeyesblindedinmystead'\n"
     ]
    }
   ],
   "source": [
    "# ciphertext = input(\"Enter ciphertext to decrypt: \")\n",
    "ciphertext = \"ylkspwzhyluvazvylkhzaolzahpulkzavulzrpzzlkifaollunspzoklhkrpukulzzvmdvvlkhukdvvlyzlltzzohtlavaolpysvclwbylvsvclfvbylflzsvzlsbyldolupilovsklflzispuklkputfzalhk\"\n",
    "print(f\"{ciphertext = }\")\n",
    "\n",
    "# simple largest frequency works here\n",
    "key = get_key_1(ciphertext)\n",
    "print(f\"{key = }\")\n",
    "\n",
    "cipher = ShiftCipher(key)\n",
    "decrypted_plaintext = cipher.decrypt(ciphertext)\n",
    "print(f\"{decrypted_plaintext = }\")"
   ]
  },
  {
   "cell_type": "markdown",
   "id": "adfb7047-3141-4283-9a9c-298896f07539",
   "metadata": {},
   "source": [
    "## Closest to Actual Language Probabilites"
   ]
  },
  {
   "cell_type": "code",
   "execution_count": 6,
   "id": "d5dbd586-4dc2-4a96-9ce9-dea7efbe2913",
   "metadata": {},
   "outputs": [],
   "source": [
    "def get_key_2(ciphertext: str) -> int:\n",
    "    freq = get_freq(ciphertext)\n",
    "    for k in freq:\n",
    "        freq[k] /= len(ciphertext)\n",
    "    # print(f\"{freq = }\")\n",
    "    \n",
    "    # http://pi.math.cornell.edu/~mec/2003-2004/cryptography/subs/frequencies.html\n",
    "    english_freq = {\n",
    "        \"e\": 12.02,\n",
    "        \"t\": 9.10,\n",
    "        \"a\": 8.12,\n",
    "        \"o\": 7.68,\n",
    "        \"i\": 7.31,\n",
    "        \"n\": 6.95,\n",
    "        \"s\": 6.28,\n",
    "        \"r\": 6.02,\n",
    "        \"h\": 5.92,\n",
    "        \"d\": 4.32,\n",
    "        \"l\": 3.98,\n",
    "        \"u\": 2.88,\n",
    "        \"c\": 2.71,\n",
    "        \"m\": 2.61,\n",
    "        \"f\": 2.30,\n",
    "        \"y\": 2.11,\n",
    "        \"w\": 2.09,\n",
    "        \"g\": 2.03,\n",
    "        \"p\": 1.82,\n",
    "        \"b\": 1.49,\n",
    "        \"v\": 1.11,\n",
    "        \"k\": 0.69,\n",
    "        \"x\": 0.17,\n",
    "        \"q\": 0.11,\n",
    "        \"j\": 0.10,\n",
    "        \"z\": 0.07,\n",
    "    }\n",
    "    \n",
    "    def dist(f1: dict, f2: dict, key: int) -> float:\n",
    "        out = 0.0\n",
    "        for ch in ShiftCipher.plaintext_space:\n",
    "            out += pow(f1.get(ShiftCipher.shift(ch, key), 0) - f2.get(ch, 0), 2)\n",
    "\n",
    "        return out\n",
    "    \n",
    "    dists = [(possible_key, dist(freq, english_freq, possible_key)) for possible_key in range(0, len(ShiftCipher.plaintext_space)) ]\n",
    "    # print(f\"{dists = }\")\n",
    "\n",
    "    key = min(dists, key=lambda x: x[1])[0]\n",
    "    \n",
    "    return key\n"
   ]
  },
  {
   "cell_type": "markdown",
   "id": "78e3e1fa-bd9a-411b-bc66-58d1a6bcce19",
   "metadata": {},
   "source": [
    "### Assignment 1 Q2"
   ]
  },
  {
   "cell_type": "code",
   "execution_count": 7,
   "id": "7bac86fe-635f-4ddb-ba98-9694f71d1d52",
   "metadata": {},
   "outputs": [
    {
     "name": "stdout",
     "output_type": "stream",
     "text": [
      "ciphertext = 'eaddagfkgxtstawkosluzafylzwkcawktwddawkkogddwfoalztayjgmfvwqwkgfbwkkgjwjgsvdgfytsetggzmlkfghdsuwlgkzaltmlksfvuzsffwdjmlkeaddagfkgxxslzwjkafjsafeaddagfkgxeglzwjkafhsafeaddagfkgxtjglzwjkafogweaddagfkgxkaklwjkfgozwjwlgyg'\n",
      "key = 18\n",
      "decrypted_plaintext = 'millionsofbabieswatchingtheskiesbelliesswollenwithbigroundeyesonjessoreroadlongbamboohutsnoplacetoshitbutsandchannelrutsmillionsoffathersinrainmillionsofmothersinpainmillionsofbrothersinwoemillionsofsistersnowheretogo'\n"
     ]
    }
   ],
   "source": [
    "# ciphertext = input(\"Enter ciphertext to decrypt: \")\n",
    "ciphertext = \"eaddagfkgxtstawkosluzafylzwkcawktwddawkkogddwfoalztayjgmfvwqwkgfbwkkgjwjgsvdgfytsetggzmlkfghdsuwlgkzaltmlksfvuzsffwdjmlkeaddagfkgxxslzwjkafjsafeaddagfkgxeglzwjkafhsafeaddagfkgxtjglzwjkafogweaddagfkgxkaklwjkfgozwjwlgyg\"\n",
    "print(f\"{ciphertext = }\")\n",
    "\n",
    "# simple method doesn't work, need full frequency analysis\n",
    "# key = get_key_1(ciphertext)\n",
    "key = get_key_2(ciphertext)\n",
    "print(f\"{key = }\")                                                                                  \n",
    "\n",
    "cipher = ShiftCipher(key)\n",
    "decrypted_plaintext = cipher.decrypt(ciphertext)\n",
    "print(f\"{decrypted_plaintext = }\")"
   ]
  }
 ],
 "metadata": {
  "kernelspec": {
   "display_name": "Python 3 (ipykernel)",
   "language": "python",
   "name": "python3"
  },
  "language_info": {
   "codemirror_mode": {
    "name": "ipython",
    "version": 3
   },
   "file_extension": ".py",
   "mimetype": "text/x-python",
   "name": "python",
   "nbconvert_exporter": "python",
   "pygments_lexer": "ipython3",
   "version": "3.8.10"
  }
 },
 "nbformat": 4,
 "nbformat_minor": 5
}
